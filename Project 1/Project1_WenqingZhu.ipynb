{
 "cells": [
  {
   "cell_type": "code",
   "execution_count": 1,
   "metadata": {},
   "outputs": [],
   "source": [
    "import pandas as pd\n",
    "import numpy as np\n",
    "import matplotlib.pyplot as plt\n",
    "import xgboost as xgb\n",
    "\n",
    "from sklearn.metrics import mean_squared_error\n",
    "from sklearn.model_selection import train_test_split\n",
    "from sklearn.linear_model import LinearRegression as lm\n",
    "from sklearn.linear_model import Ridge, RidgeCV, Lasso, LassoCV\n",
    "from sklearn.preprocessing import OneHotEncoder\n",
    "from xgboost import XGBRegressor\n",
    "from sklearn.decomposition import PCA\n",
    "from sklearn.preprocessing import StandardScaler\n",
    "from sklearn.pipeline import Pipeline\n",
    "# from sklearn.ensemble import RandomForestClassifier  \n",
    "from sklearn.ensemble import RandomForestRegressor \n",
    "\n",
    "\n"
   ]
  },
  {
   "cell_type": "code",
   "execution_count": 2,
   "metadata": {},
   "outputs": [],
   "source": [
    "# Data processing\n",
    "\n",
    "def data_process(X,category):\n",
    "    # X : pd.DataFrame, No PID, No price\n",
    "    row,col = X.shape\n",
    "    column_names = X.columns\n",
    "    X_new = np.empty([row,1])\n",
    "    if category == False:\n",
    "        column_names_new = []\n",
    "        category_dict = {}\n",
    "        for column_name in column_names:\n",
    "            if X[column_name].dtype != 'object':\n",
    "                column_temp = X[column_name].to_numpy().reshape(row,-1)\n",
    "                X_new = np.concatenate((X_new,column_temp),axis = 1)\n",
    "                column_names_new = column_names_new + [column_name,]\n",
    "            else:\n",
    "                encoder = OneHotEncoder(sparse=False,categories='auto')\n",
    "                # print(X[column_name].shape)\n",
    "                encoded_data = encoder.fit_transform(X[[column_name]])\n",
    "                X_new = np.concatenate((X_new,encoded_data),axis = 1)\n",
    "                column_names_new = column_names_new + list(encoder.categories_[0])\n",
    "                category_dict[column_name] = encoder.categories_\n",
    "        # X_new_array = np.array(X_new)\n",
    "        X_new = np.delete(X_new, 0, axis=1)\n",
    "        X_new = np.nan_to_num(X_new, nan=0)\n",
    "        return X_new,column_names_new,category_dict\n",
    "\n",
    "    else:\n",
    "        for column_name in column_names:\n",
    "            if X[column_name].dtype != 'object':\n",
    "                column_temp = X[column_name].to_numpy().reshape(row,-1)\n",
    "                X_new = np.concatenate((X_new,column_temp),axis = 1)\n",
    "                # column_names_new = column_names_new + column_name\n",
    "            else:\n",
    "                encoder = OneHotEncoder(sparse=False,categories=category[column_name],handle_unknown='ignore')\n",
    "                encoded_data = encoder.fit_transform(X[[column_name]])\n",
    "                X_new = np.concatenate((X_new,encoded_data),axis = 1)\n",
    "                # column_names_new = column_names_new + list(encoder.categories_[0])\n",
    "                # category_dict[column_name] = encoder.categories_\n",
    "        X_new = np.delete(X_new, 0, axis=1)\n",
    "        X_new = np.nan_to_num(X_new, nan=0)\n",
    "        return X_new\n",
    "\n",
    "\n",
    "                "
   ]
  },
  {
   "cell_type": "code",
   "execution_count": 3,
   "metadata": {},
   "outputs": [],
   "source": [
    "# Data input\n",
    "\n",
    "\n",
    "folder_address = './proj1/'\n",
    "name_list = ['/fold1','/fold2','/fold3','/fold4','/fold5','/fold6','/fold7','/fold8','/fold9','/fold10']\n",
    "train_data = []\n",
    "train_PID = []\n",
    "train_price = []\n",
    "train_data_name = []\n",
    "train_data_category = []\n",
    "test_data = []\n",
    "test_PID = []\n",
    "true_price = []\n",
    "true_price_PID = []\n",
    "train_name = '/train.csv'\n",
    "test_name = '/test.csv'\n",
    "testy_name = '/test_y.csv'\n",
    "\n",
    "for index, fold_name in enumerate(name_list):\n",
    "    # print(index)\n",
    "    #read training data\n",
    "    train_file_name = folder_address + fold_name + train_name\n",
    "    data = pd.read_csv(train_file_name)\n",
    "    PID = data['PID'] # Save the PID in the dataset into a seperate column\n",
    "    train_PID.append(PID) \n",
    "    Price = np.array(data['Sale_Price'])\n",
    "    Price_log = np.log(Price)\n",
    "    train_price.append(Price_log) # Response = price\n",
    "    X = data.drop(['PID','Sale_Price'],axis = 1) # All predictors \n",
    "    category = False\n",
    "    X_new,column_names_new,category_dict = data_process(X,category)\n",
    "    train_data.append(X_new)\n",
    "    train_data_category.append(category_dict)\n",
    "    train_data_name.append(column_names_new)\n",
    "\n",
    "    #read test file\n",
    "    test_file_name = folder_address+fold_name+test_name\n",
    "    data = pd.read_csv(test_file_name)\n",
    "    PID = data['PID']\n",
    "    test_PID.append(PID)\n",
    "    X = data.drop(['PID'],axis = 1)\n",
    "    category = category_dict\n",
    "    X_new = data_process(X,category)\n",
    "    test_data.append(X_new)\n",
    "\n",
    "    #read test_y file\n",
    "    true_price_file = folder_address + fold_name + testy_name\n",
    "    data = pd.read_csv(true_price_file)\n",
    "    PID = data['PID']\n",
    "    true_price_PID.append(PID)\n",
    "    Price = np.array(data['Sale_Price'])\n",
    "    Price_log = np.log(Price)\n",
    "    true_price.append(Price_log)\n",
    "\n"
   ]
  },
  {
   "cell_type": "code",
   "execution_count": 5,
   "metadata": {},
   "outputs": [
    {
     "name": "stdout",
     "output_type": "stream",
     "text": [
      "0.13851241807832565\n",
      "0.14101569277155732\n",
      "0.1328242415439633\n",
      "0.13853494110710635\n",
      "0.12796759149354486\n",
      "0.14911653891320378\n",
      "0.15281254281552256\n",
      "0.1443927646814941\n",
      "0.1486760173467215\n",
      "0.13922031023642378\n"
     ]
    }
   ],
   "source": [
    "# Attempt one: Random Forest for the price prediction task\n",
    "np.random.seed(2417)\n",
    "\n",
    "price_pred = []\n",
    "rmse = []\n",
    "reg = RandomForestRegressor(n_estimators= 500, random_state=42) \n",
    "\n",
    "for index in range(len(name_list)):\n",
    "    reg.fit(train_data[index], train_price[index])\n",
    "    y_pred = reg.predict(test_data[index])\n",
    "    # price_pred.append(y_pred)\n",
    "    rmse_index = np.sqrt(mean_squared_error(true_price[index], y_pred))\n",
    "    rmse.append(rmse_index)\n",
    "    print(rmse_index)\n"
   ]
  },
  {
   "cell_type": "code",
   "execution_count": 9,
   "metadata": {},
   "outputs": [
    {
     "name": "stdout",
     "output_type": "stream",
     "text": [
      "0.11378088176721403\n",
      "0.11755640524084741\n",
      "0.11589603336767859\n",
      "0.11843562084609424\n",
      "0.10784543122492683\n",
      "0.12866615199770726\n",
      "0.1325701213273024\n",
      "0.12798373482307962\n",
      "0.13178518650464946\n",
      "0.11686705308435665\n"
     ]
    }
   ],
   "source": [
    "# Attempt two: XGboost model for the price prediction task\n",
    "\n",
    "np.random.seed(2417)\n",
    "\n",
    "rmse_xgb = []\n",
    "xgb_model = XGBRegressor(n_estimators = 500,eta = 0.05, subsample= 0.5)\n",
    "\n",
    "for index in range(len(name_list)):\n",
    "    xgb_model.fit(train_data[index], train_price[index])\n",
    "    y_pred_xgb = xgb_model.predict(test_data[index])\n",
    "    rmse_index = np.sqrt(mean_squared_error(true_price[index], y_pred_xgb))\n",
    "    rmse_xgb.append(rmse_index)\n",
    "    print(rmse_index)"
   ]
  },
  {
   "cell_type": "code",
   "execution_count": 10,
   "metadata": {},
   "outputs": [
    {
     "name": "stdout",
     "output_type": "stream",
     "text": [
      "0.14130730589878632\n",
      "0.12113866201838568\n"
     ]
    }
   ],
   "source": [
    "print(sum(rmse)/len(rmse))\n",
    "print(sum(rmse_xgb)/len(rmse_xgb))"
   ]
  },
  {
   "cell_type": "code",
   "execution_count": null,
   "metadata": {},
   "outputs": [],
   "source": []
  }
 ],
 "metadata": {
  "kernelspec": {
   "display_name": "base",
   "language": "python",
   "name": "python3"
  },
  "language_info": {
   "codemirror_mode": {
    "name": "ipython",
    "version": 3
   },
   "file_extension": ".py",
   "mimetype": "text/x-python",
   "name": "python",
   "nbconvert_exporter": "python",
   "pygments_lexer": "ipython3",
   "version": "3.8.8"
  },
  "orig_nbformat": 4
 },
 "nbformat": 4,
 "nbformat_minor": 2
}
