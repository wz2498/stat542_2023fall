{
 "cells": [
  {
   "cell_type": "code",
   "execution_count": 30,
   "metadata": {},
   "outputs": [],
   "source": [
    "import numpy as np\n",
    "import pandas as pd\n",
    "import random\n",
    "from sklearn.metrics import confusion_matrix\n",
    "\n"
   ]
  },
  {
   "cell_type": "code",
   "execution_count": 36,
   "metadata": {},
   "outputs": [
    {
     "name": "stdout",
     "output_type": "stream",
     "text": [
      "Confusion Matrix:\n",
      "[[  0   0   0]\n",
      " [300   0   0]\n",
      " [300   0   0]]\n",
      "\n",
      "Accuracy: 0.0\n",
      "Precision (Class 1): nan\n",
      "Recall (Class 1): 0.0\n"
     ]
    },
    {
     "name": "stderr",
     "output_type": "stream",
     "text": [
      "/var/folders/km/8yg0mls91wbbtttgpt49t8_80000gn/T/ipykernel_16714/3239015983.py:64: RuntimeWarning: invalid value encountered in scalar divide\n",
      "  precision = cm[1, 1] / np.sum(cm[:, 1])  # Precision for class 1\n"
     ]
    }
   ],
   "source": [
    "def pegasos(X_df, y_df, lambda_reg, T):\n",
    "    \n",
    "    X = np.array(X_df)\n",
    "    y = np.array(y_df)\n",
    "    # Initialize the parameter\n",
    "    n, d = X.shape\n",
    "    w = np.zeros(d)\n",
    "    a = 0\n",
    "    t = 0\n",
    "    eta = 0\n",
    "    \n",
    "    for epoch in range(1, T+1):\n",
    "        list_of_tuples = [tuple(row) for row in X]\n",
    "        shuffled_list = random.sample(list_of_tuples, n)\n",
    "        X_shuffled= np.array([list(row) for row in shuffled_list])\n",
    "        for i in range(n):\n",
    "            t += 1\n",
    "            eta = 1 / (lambda_reg * t)\n",
    "            xt = X_shuffled[i, :]\n",
    "            yt = y[i]\n",
    "\n",
    "            if yt * (np.dot(xt,w)+a) < 1:\n",
    "                step_w = lambda_reg*w - yt*xt\n",
    "                step_a = -yt\n",
    "            else:\n",
    "                step_w = lambda_reg*w\n",
    "                step_a = 0\n",
    "\n",
    "            w = w - eta * step_w\n",
    "            a = a - eta * step_a\n",
    "       \n",
    "    return w,a\n",
    "\n",
    "def predict(w, X_test):\n",
    "    \n",
    "    predictions = np.dot(X_test, w)\n",
    "    y_pred = np.sign(predictions)\n",
    "    \n",
    "    return y_pred\n",
    "\n",
    "train_file_path = '/Users/wenqingz/Desktop/CodingAssignment5/coding5_train.csv'\n",
    "test_file_path = '/Users/wenqingz/Desktop/CodingAssignment5/coding5_test.csv'\n",
    "\n",
    "train_data = pd.read_csv(train_file_path)\n",
    "test_data = pd.read_csv(test_file_path)\n",
    "\n",
    "p = train_data.shape[1]-1 # The last column is \"Y\"\n",
    "\n",
    "X = train_data.iloc[:,:p]\n",
    "y = train_data.iloc[:,p]\n",
    "X_test = test_data.iloc[:,:p]\n",
    "y_test = test_data.iloc[:,p]\n",
    "\n",
    "w,a = pegasos(X, y, lambda_reg = 1, T = 1000)\n",
    "\n",
    "y_pred = predict(w, X_test)\n",
    "\n",
    "cm = confusion_matrix(y_test, y_pred)\n",
    "\n",
    "print(\"Confusion Matrix:\")\n",
    "print(cm)\n",
    "\n",
    "accuracy = np.trace(cm) / np.sum(cm)\n",
    "precision = cm[1, 1] / np.sum(cm[:, 1])  # Precision for class 1\n",
    "recall = cm[1, 1] / np.sum(cm[1, :])  # Recall for class 1\n",
    "\n",
    "print(\"\\nAccuracy:\", accuracy)\n",
    "print(\"Precision (Class 1):\", precision)\n",
    "print(\"Recall (Class 1):\", recall)\n",
    "    \n"
   ]
  },
  {
   "cell_type": "code",
   "execution_count": 23,
   "metadata": {},
   "outputs": [
    {
     "name": "stdout",
     "output_type": "stream",
     "text": [
      "(256,)\n",
      "(600, 256)\n"
     ]
    }
   ],
   "source": [
    "print(w.shape)\n",
    "print(X_test.shape)"
   ]
  },
  {
   "cell_type": "code",
   "execution_count": 37,
   "metadata": {},
   "outputs": [
    {
     "name": "stdout",
     "output_type": "stream",
     "text": [
      "[1. 1. 1. 1. 1. 1. 1. 1. 1. 1. 1. 1. 1. 1. 1. 1. 1. 1. 1. 1. 1. 1. 1. 1.\n",
      " 1. 1. 1. 1. 1. 1. 1. 1. 1. 1. 1. 1. 1. 1. 1. 1. 1. 1. 1. 1. 1. 1. 1. 1.\n",
      " 1. 1. 1. 1. 1. 1. 1. 1. 1. 1. 1. 1. 1. 1. 1. 1. 1. 1. 1. 1. 1. 1. 1. 1.\n",
      " 1. 1. 1. 1. 1. 1. 1. 1. 1. 1. 1. 1. 1. 1. 1. 1. 1. 1. 1. 1. 1. 1. 1. 1.\n",
      " 1. 1. 1. 1. 1. 1. 1. 1. 1. 1. 1. 1. 1. 1. 1. 1. 1. 1. 1. 1. 1. 1. 1. 1.\n",
      " 1. 1. 1. 1. 1. 1. 1. 1. 1. 1. 1. 1. 1. 1. 1. 1. 1. 1. 1. 1. 1. 1. 1. 1.\n",
      " 1. 1. 1. 1. 1. 1. 1. 1. 1. 1. 1. 1. 1. 1. 1. 1. 1. 1. 1. 1. 1. 1. 1. 1.\n",
      " 1. 1. 1. 1. 1. 1. 1. 1. 1. 1. 1. 1. 1. 1. 1. 1. 1. 1. 1. 1. 1. 1. 1. 1.\n",
      " 1. 1. 1. 1. 1. 1. 1. 1. 1. 1. 1. 1. 1. 1. 1. 1. 1. 1. 1. 1. 1. 1. 1. 1.\n",
      " 1. 1. 1. 1. 1. 1. 1. 1. 1. 1. 1. 1. 1. 1. 1. 1. 1. 1. 1. 1. 1. 1. 1. 1.\n",
      " 1. 1. 1. 1. 1. 1. 1. 1. 1. 1. 1. 1. 1. 1. 1. 1. 1. 1. 1. 1. 1. 1. 1. 1.\n",
      " 1. 1. 1. 1. 1. 1. 1. 1. 1. 1. 1. 1. 1. 1. 1. 1. 1. 1. 1. 1. 1. 1. 1. 1.\n",
      " 1. 1. 1. 1. 1. 1. 1. 1. 1. 1. 1. 1. 1. 1. 1. 1. 1. 1. 1. 1. 1. 1. 1. 1.\n",
      " 1. 1. 1. 1. 1. 1. 1. 1. 1. 1. 1. 1. 1. 1. 1. 1. 1. 1. 1. 1. 1. 1. 1. 1.\n",
      " 1. 1. 1. 1. 1. 1. 1. 1. 1. 1. 1. 1. 1. 1. 1. 1. 1. 1. 1. 1. 1. 1. 1. 1.\n",
      " 1. 1. 1. 1. 1. 1. 1. 1. 1. 1. 1. 1. 1. 1. 1. 1. 1. 1. 1. 1. 1. 1. 1. 1.\n",
      " 1. 1. 1. 1. 1. 1. 1. 1. 1. 1. 1. 1. 1. 1. 1. 1. 1. 1. 1. 1. 1. 1. 1. 1.\n",
      " 1. 1. 1. 1. 1. 1. 1. 1. 1. 1. 1. 1. 1. 1. 1. 1. 1. 1. 1. 1. 1. 1. 1. 1.\n",
      " 1. 1. 1. 1. 1. 1. 1. 1. 1. 1. 1. 1. 1. 1. 1. 1. 1. 1. 1. 1. 1. 1. 1. 1.\n",
      " 1. 1. 1. 1. 1. 1. 1. 1. 1. 1. 1. 1. 1. 1. 1. 1. 1. 1. 1. 1. 1. 1. 1. 1.\n",
      " 1. 1. 1. 1. 1. 1. 1. 1. 1. 1. 1. 1. 1. 1. 1. 1. 1. 1. 1. 1. 1. 1. 1. 1.\n",
      " 1. 1. 1. 1. 1. 1. 1. 1. 1. 1. 1. 1. 1. 1. 1. 1. 1. 1. 1. 1. 1. 1. 1. 1.\n",
      " 1. 1. 1. 1. 1. 1. 1. 1. 1. 1. 1. 1. 1. 1. 1. 1. 1. 1. 1. 1. 1. 1. 1. 1.\n",
      " 1. 1. 1. 1. 1. 1. 1. 1. 1. 1. 1. 1. 1. 1. 1. 1. 1. 1. 1. 1. 1. 1. 1. 1.\n",
      " 1. 1. 1. 1. 1. 1. 1. 1. 1. 1. 1. 1. 1. 1. 1. 1. 1. 1. 1. 1. 1. 1. 1. 1.]\n"
     ]
    }
   ],
   "source": [
    "print(y_pred)\n"
   ]
  }
 ],
 "metadata": {
  "kernelspec": {
   "display_name": "Python 3",
   "language": "python",
   "name": "python3"
  },
  "language_info": {
   "codemirror_mode": {
    "name": "ipython",
    "version": 3
   },
   "file_extension": ".py",
   "mimetype": "text/x-python",
   "name": "python",
   "nbconvert_exporter": "python",
   "pygments_lexer": "ipython3",
   "version": "3.8.17"
  }
 },
 "nbformat": 4,
 "nbformat_minor": 2
}
