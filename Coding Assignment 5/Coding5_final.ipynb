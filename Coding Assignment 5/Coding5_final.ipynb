{
 "cells": [
  {
   "cell_type": "code",
   "execution_count": 1,
   "metadata": {},
   "outputs": [],
   "source": [
    "import numpy as np\n",
    "import pandas as pd \n",
    "from tqdm import tqdm\n",
    "from sklearn.metrics import confusion_matrix\n"
   ]
  },
  {
   "cell_type": "code",
   "execution_count": 3,
   "metadata": {},
   "outputs": [],
   "source": [
    "train_data = pd.read_csv('/Users/wenqingz/Desktop/CodingAssignment5/coding5_train.csv')\n",
    "test_data = pd.read_csv('/Users/wenqingz/Desktop/CodingAssignment5/coding5_test.csv')"
   ]
  },
  {
   "cell_type": "code",
   "execution_count": 4,
   "metadata": {},
   "outputs": [],
   "source": [
    "X_train = train_data.drop(columns=['Y']).to_numpy()\n",
    "Y_train = train_data['Y'].to_numpy()\n",
    "X_test = test_data.drop(columns=['Y']).to_numpy()\n",
    "Y_test = test_data['Y'].to_numpy()\n",
    "Y_train = np.sign(Y_train-5.5)\n",
    "Y_test = np.sign(Y_test-5.5)"
   ]
  },
  {
   "cell_type": "code",
   "execution_count": 5,
   "metadata": {},
   "outputs": [],
   "source": [
    "def pegasos_svm_train(X, y, lambda_reg, epoch):\n",
    "    \"\"\"\n",
    "    Train a SVM using the Pegasos algorithm.\n",
    "\n",
    "    Args:\n",
    "    - X: Training data, a numpy array of shape (num_samples, num_features)\n",
    "    - y: Labels, a numpy array of shape (num_samples,)\n",
    "    - lambda_reg: Regularization parameter\n",
    "    - epoch: Number of iterations for the algorithm\n",
    "\n",
    "    Returns:\n",
    "    - w: The learned weights, a numpy array of shape (num_features,)\n",
    "    \"\"\"\n",
    "    num_samples, num_features = X.shape\n",
    "    beta = np.zeros(num_features)\n",
    "    alpha = 0\n",
    "    for t in range(1, epoch + 1):\n",
    "        beta_del = np.zeros_like(beta)\n",
    "        alpha_del = 0\n",
    "        # Learning rate for the current iteration\n",
    "        eta = 1 / (lambda_reg * t)\n",
    "        shuffled_indices = np.random.permutation(num_samples)\n",
    "        X_new = X[shuffled_indices]\n",
    "        y_new = y[shuffled_indices]\n",
    "        for i in range(num_samples):\n",
    "        # Randomly pick a sample\n",
    "        # i = np.random.randint(num_samples)\n",
    "            x_i, y_i = X_new[i], y_new[i]\n",
    "\n",
    "\n",
    "        # Sub-gradient calculation\n",
    "            if y_i * (np.dot(beta, x_i)+alpha) < 1:\n",
    "                # w = (1 - eta * lambda_reg) * w + eta * y_i * x_i\n",
    "                # beta += - eta * (lambda_reg * beta - y_i*x_i)\n",
    "                beta_del +=  - eta * (lambda_reg * beta - y_i*x_i)\n",
    "                alpha_del +=  eta * y_i\n",
    "                # alpha += eta * y_i\n",
    "            else:\n",
    "                # w = (1 - eta * lambda_reg) * w\n",
    "                beta_del += - eta * (lambda_reg * beta)\n",
    "                # beta += - eta * (lambda_reg * beta)\n",
    "        beta += beta_del/num_samples\n",
    "        alpha += alpha_del/num_samples\n",
    "\n",
    "    return beta"
   ]
  },
  {
   "cell_type": "code",
   "execution_count": 6,
   "metadata": {},
   "outputs": [],
   "source": [
    "epoch = 20\n",
    "lambda_reg = 0.1\n",
    "beta = pegasos_svm_train(X_train,Y_train,lambda_reg,epoch)\n",
    "y_predict = np.sign(np.dot(X_test,beta))\n",
    "confusion = confusion_matrix(Y_test,y_predict)"
   ]
  },
  {
   "cell_type": "code",
   "execution_count": 7,
   "metadata": {},
   "outputs": [
    {
     "data": {
      "text/plain": [
       "array([[288,  12],\n",
       "       [ 10, 290]])"
      ]
     },
     "execution_count": 7,
     "metadata": {},
     "output_type": "execute_result"
    }
   ],
   "source": [
    "confusion"
   ]
  },
  {
   "cell_type": "code",
   "execution_count": 8,
   "metadata": {},
   "outputs": [
    {
     "data": {
      "text/plain": [
       "0.03666666666666667"
      ]
     },
     "execution_count": 8,
     "metadata": {},
     "output_type": "execute_result"
    }
   ],
   "source": [
    "(confusion[0,1]+confusion[1,0])/np.sum(confusion)"
   ]
  },
  {
   "cell_type": "code",
   "execution_count": null,
   "metadata": {},
   "outputs": [],
   "source": []
  },
  {
   "cell_type": "code",
   "execution_count": null,
   "metadata": {},
   "outputs": [],
   "source": []
  }
 ],
 "metadata": {
  "kernelspec": {
   "display_name": "base",
   "language": "python",
   "name": "python3"
  },
  "language_info": {
   "codemirror_mode": {
    "name": "ipython",
    "version": 3
   },
   "file_extension": ".py",
   "mimetype": "text/x-python",
   "name": "python",
   "nbconvert_exporter": "python",
   "pygments_lexer": "ipython3",
   "version": "3.8.17"
  }
 },
 "nbformat": 4,
 "nbformat_minor": 2
}
