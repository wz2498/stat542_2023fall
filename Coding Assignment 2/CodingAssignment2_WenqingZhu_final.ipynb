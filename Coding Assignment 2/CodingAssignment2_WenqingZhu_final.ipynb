{
 "cells": [
  {
   "cell_type": "code",
   "execution_count": 1,
   "id": "219d693c",
   "metadata": {},
   "outputs": [],
   "source": [
    "import pandas as pd\n",
    "import numpy as np\n",
    "import matplotlib.pyplot as plt\n",
    "from tqdm import tqdm\n",
    "\n",
    "from sklearn.metrics import mean_squared_error\n",
    "from sklearn.model_selection import train_test_split\n",
    "from sklearn.linear_model import LinearRegression as lm\n",
    "from sklearn.linear_model import Ridge, RidgeCV, Lasso, LassoCV\n",
    "\n",
    "from sklearn.decomposition import PCA\n",
    "from sklearn.preprocessing import StandardScaler\n",
    "from sklearn.pipeline import Pipeline\n",
    "\n",
    "import seaborn as sns\n",
    "\n",
    "import warnings\n",
    "from sklearn.exceptions import ConvergenceWarning\n",
    "warnings.filterwarnings(\"ignore\", category=ConvergenceWarning)\n",
    "\n",
    "# Set the random seed for reproducibility\n",
    "np.random.seed(2417)\n"
   ]
  },
  {
   "cell_type": "markdown",
   "id": "5d5dfc4c",
   "metadata": {},
   "source": [
    "# Part Two\n",
    "(Part one comes after Part two)"
   ]
  },
  {
   "cell_type": "markdown",
   "id": "eec973c9",
   "metadata": {},
   "source": [
    "## Case I"
   ]
  },
  {
   "cell_type": "code",
   "execution_count": 2,
   "id": "4b4158ac",
   "metadata": {},
   "outputs": [],
   "source": [
    "class PCR(object):\n",
    "\n",
    "    def __init__(self, num_folds=10):\n",
    "        self.folds = num_folds\n",
    "\n",
    "    def fit(self, X, Y):\n",
    "        n, p = X.shape\n",
    "        indices = np.arange(n)\n",
    "        np.random.shuffle(indices)\n",
    "        index_sets = np.array_split(indices, self.folds)\n",
    "        ncomp = min(p, n - 1 - max([len(i) for i in index_sets]))\n",
    "        cv_err = np.zeros(ncomp)\n",
    "\n",
    "        for ifold in range(self.folds):\n",
    "            train_inds =  np.delete(index_sets, obj=ifold, axis=0).ravel()\n",
    "            test_inds = index_sets[ifold]\n",
    "\n",
    "            X_train = X[train_inds, :]\n",
    "            pipeline = Pipeline([('scaling', StandardScaler()), ('pca', PCA())])\n",
    "            pipeline.fit(X_train)\n",
    "            X_train = pipeline.transform(X_train)\n",
    "            coefs = Y[train_inds].T @ X_train / np.sum(X_train**2, axis=0)\n",
    "            b0 = np.mean(Y[train_inds])\n",
    "\n",
    "            X_test = pipeline.transform(X[test_inds, :])\n",
    "\n",
    "            for k in np.arange(ncomp):\n",
    "                preds = X_test[:, :k] @ coefs.T[:k] + b0\n",
    "                cv_err[k] += cv_err[k] + np.sum((Y[test_inds]-preds)**2)\n",
    "\n",
    "        min_ind = np.argmin(cv_err)\n",
    "        self.ncomp = min_ind+1\n",
    "        pipeline = Pipeline([('scaling', StandardScaler()), ('pca', PCA(n_components=self.ncomp))])\n",
    "        self.transform = pipeline.fit(X)\n",
    "        self.model = lm().fit(self.transform.transform(X), Y)\n",
    "\n",
    "    def predict(self, X):\n",
    "        X_ = self.transform.transform(X)\n",
    "        return self.model.predict(X_)"
   ]
  },
  {
   "cell_type": "code",
   "execution_count": 3,
   "id": "6c62b590",
   "metadata": {},
   "outputs": [
    {
     "data": {
      "text/plain": [
       "((506, 91), 506)"
      ]
     },
     "execution_count": 3,
     "metadata": {},
     "output_type": "execute_result"
    }
   ],
   "source": [
    "myData = pd.read_csv(\"Coding2_Data2.csv\")\n",
    "# myData.head()\n",
    "Y = myData['Y']\n",
    "X = myData.drop(['Y'], axis = 1)\n",
    "X.shape, len(Y)"
   ]
  },
  {
   "cell_type": "code",
   "execution_count": 4,
   "id": "d9952f10",
   "metadata": {},
   "outputs": [
    {
     "name": "stderr",
     "output_type": "stream",
     "text": [
      "100%|███████████████████████████████████████████| 50/50 [06:22<00:00,  7.65s/it]\n"
     ]
    }
   ],
   "source": [
    "numIteration  = 50\n",
    "mspe_full = np.zeros(numIteration)\n",
    "mspe_ridge = np.zeros(numIteration)\n",
    "mspe_lasso_min = np.zeros(numIteration)\n",
    "mspe_lasso_1se = np.zeros(numIteration)\n",
    "mspe_lasso_refit = np.zeros(numIteration)\n",
    "mspe_pcr = np.zeros(numIteration)\n",
    "\n",
    "optimal_ridge_alpha = np.zeros(numIteration)\n",
    "optimal_lasso_min = np.zeros(numIteration)\n",
    "optimal_lasso_1se = np.zeros(numIteration)\n",
    "\n",
    "for i in  tqdm(range(numIteration)):\n",
    "\n",
    "    # Step 0: Splitting the data into training and testing sets\n",
    "\n",
    "    lenData = len(Y)\n",
    "\n",
    "    indices = np.arange(0, lenData)\n",
    "    np.random.shuffle(indices)\n",
    "    test_ind = indices[:int(np.floor(0.25*lenData))]\n",
    "    train_ind = indices[len(test_ind):]\n",
    "\n",
    "    X_train = X.iloc[train_ind]\n",
    "    Y_train = Y[train_ind]\n",
    "    X_test = X.iloc[test_ind]\n",
    "    Y_test = Y[test_ind]\n",
    "    \n",
    "    ## Normalize X \n",
    "    scaler = StandardScaler()\n",
    "    X_train_tmp = scaler.fit_transform(X_train)\n",
    "    X_test_tmp = scaler.fit_transform(X_test)\n",
    "    \n",
    "    X_train_scaled = pd.DataFrame(X_train_tmp, columns = X_train.columns)\n",
    "    X_test_scaled = pd.DataFrame(X_test_tmp, columns = X_test.columns)\n",
    "\n",
    "    # Step 1: Full model\n",
    "    \n",
    "    full = lm().fit(X_train_scaled, Y_train)\n",
    "    mspe_full[i] = mean_squared_error(Y_test, full.predict(X_test_scaled))\n",
    "    \n",
    "    # Step 2: Ridge Regression\n",
    "    \n",
    "    ridge_alphas = np.logspace(-10, 1, 100)\n",
    "    ridgecv = RidgeCV(alphas = ridge_alphas, cv = 10, \n",
    "                      scoring = 'neg_mean_squared_error')\n",
    "    ridgecv.fit(X_train_scaled, Y_train)\n",
    "    optimal_ridge_alpha[i] = ridgecv.alpha_\n",
    "    \n",
    "    ridge_model = Ridge(alpha = ridgecv.alpha_)\n",
    "    ridge_model.fit(X_train_scaled, Y_train)\n",
    "    mspe_ridge[i] = mean_squared_error(Y_test, ridge_model.predict(X_test_scaled))\n",
    "    \n",
    "    # Step 3: Lasso using lambda.min\n",
    "    \n",
    "    lasso_alphas = np.logspace(-10, 1, 100)\n",
    "    lassocv = LassoCV(alphas = lasso_alphas, cv = 10)\n",
    "    lassocv.fit(X_train_scaled, Y_train)\n",
    "\n",
    "    mean_mse = np.mean(lassocv.mse_path_, axis=1)\n",
    "    std_mse = np.std(lassocv.mse_path_, axis=1) / np.sqrt(10) \n",
    "\n",
    "    cv_alphas = lassocv.alphas_\n",
    "    min_idx = np.argmin(mean_mse)\n",
    "    alpha_min = cv_alphas[min_idx]\n",
    "\n",
    "    threshold = mean_mse[min_idx] + std_mse[min_idx]\n",
    "    alpha_1se = max(cv_alphas[np.where(mean_mse <= threshold)])\n",
    "\n",
    "    optimal_lasso_min[i] = alpha_min\n",
    "    optimal_lasso_1se[i] = alpha_1se\n",
    "    \n",
    "    ## Lasso with lambda.min\n",
    "    lasso_model_min = Lasso(alpha = alpha_min, max_iter=10000)\n",
    "    lasso_model_min.fit(X_train_scaled, Y_train)\n",
    "    mspe_lasso_min[i] = mean_squared_error(Y_test, lasso_model_min.predict(X_test_scaled))\n",
    "    \n",
    "    # Step 4: Lasso using lambda.1se\n",
    "    lasso_model_1se = Lasso(alpha = alpha_1se,  max_iter=10000)\n",
    "    lasso_model_1se.fit(X_train_scaled, Y_train)\n",
    "    mspe_lasso_1se[i] = mean_squared_error(Y_test, lasso_model_1se.predict(X_test_scaled))\n",
    "    \n",
    "    # Step 5: Refit with alpha_1se\n",
    "    nonzero_indices = np.where(lasso_model_1se.coef_ != 0)[0]\n",
    "    lm_refit = lm()\n",
    "    lm_refit.fit(X_train_scaled.iloc[:, nonzero_indices], Y_train)\n",
    "    mspe_lasso_refit[i] = mean_squared_error(Y_test, lm_refit.predict(X_test_scaled.iloc[:, nonzero_indices]))\n",
    "    \n",
    "    # Step 6: PCR\n",
    "    pcr = PCR()\n",
    "    pcr.fit(X_train_scaled.to_numpy(), Y_train.to_numpy())\n",
    "    mspe_pcr[i] = mean_squared_error(Y_test, pcr.predict(X_test_scaled.to_numpy()))"
   ]
  },
  {
   "cell_type": "code",
   "execution_count": 5,
   "id": "89aede2e",
   "metadata": {},
   "outputs": [],
   "source": [
    "data = [mspe_full, mspe_ridge, mspe_lasso_min, mspe_lasso_1se, mspe_lasso_refit, mspe_pcr ]\n",
    "labels = ['Full', 'Ridge', 'Lasso-min', 'Lasso-1se', 'Lasso-refit', 'PCR']\n",
    "\n",
    "data_convert = np.array(data).T\n",
    "\n",
    "df = pd.DataFrame(data_convert, columns=labels)\n",
    "df.to_csv('mspe.csv')"
   ]
  },
  {
   "cell_type": "code",
   "execution_count": 8,
   "id": "f01ce3f8",
   "metadata": {
    "scrolled": true
   },
   "outputs": [
    {
     "data": {
      "image/png": "[encoded data removed]",
      "text/plain": [
       "<Figure size 432x288 with 1 Axes>"
      ]
     },
     "metadata": {
      "needs_background": "light"
     },
     "output_type": "display_data"
    }
   ],
   "source": [
    "# data_convert = pd.read_csv(\"mspe.csv\").to_numpy()\n",
    "# labels = ['Ridge', 'Lasso-min', 'Lasso-1se', 'Lasso-refit', 'PCR']\n",
    "# numIteration = 50\n",
    "\n",
    "fig, ax = plt.subplots()\n",
    "\n",
    "x0 = [1] * numIteration + np.random.normal(0,0.1,numIteration)\n",
    "\n",
    "# Plot stripe charts for each set\n",
    "for i in range(6):\n",
    "    plt.scatter(x0+i, data_convert[:,i], marker='o', s = 10)\n",
    "plt.boxplot(data_convert,vert=True)\n",
    "\n",
    "ax.set_ylabel('MSPE')\n",
    "ax.set_xticks(range(1,7))\n",
    "ax.set_xticklabels(labels[0:6])\n",
    "ax.set_title('Stripe Chart with Boxplots')\n",
    "\n",
    "plt.show()\n"
   ]
  },
  {
   "cell_type": "code",
   "execution_count": 11,
   "id": "f9004e97",
   "metadata": {},
   "outputs": [
    {
     "name": "stdout",
     "output_type": "stream",
     "text": [
      "[0.06323761 0.03525288 0.03575053 0.03529928 0.0377481  0.04071292]\n",
      "[0.03338297 0.00883952 0.01003911 0.00651587 0.00811823 0.01780213]\n"
     ]
    }
   ],
   "source": [
    "mean_mspe = data_convert.mean(0)\n",
    "print(mean_mspe)\n",
    "std_mspe = data_convert.std(0)\n",
    "print(std_mspe)"
   ]
  },
  {
   "cell_type": "markdown",
   "id": "f5a5f20b",
   "metadata": {},
   "source": [
    "#### 1. Which procedure or procedures yield the best performance in terms of MSPE?\n",
    "In terms of MSPE, Lasso-1se demonstrates the best performance as it has the second smallest mean and the smallest standard deviation.\n",
    "\n",
    "#### 2. Conversely, which procedure or procedures show the poorest performance?\n",
    "\n",
    "From the stripe chart, it is evident that the full model exhibits the poorest performance, with the broadest MSPE distribution and multiple outliers that are notably distant from the rest of the data.\n",
    "\n",
    "#### 3. In the context of Lasso regression, which procedure, Lasso.min or Lasso.1se, yields a better MSPE?\n",
    "Between Lasso-min and Lasso-1se, Lasso-1se yields slightly better MSPE on average, but the difference is not very pronounced.\n",
    "\n",
    "#### 4. Is refitting advantageous in this case? In other words, does L.Refit outperform Lasso.1se?\n",
    "Speaking of MSPE, Lasso-refit is not remarkably better than Lasso-1se.\n",
    "\n",
    "#### 5. Is variable selection or shrinkage warranted for this particular dataset? To clarify, do you find the performance of the Full model to be comparable to, or divergent from, the best-performing procedure among the other five?\n",
    "Comparing the MSPE derived from the six methods indicates that variable selection significantly enhances prediction performance. These variable selection methods address overfitting and multicollinearity issues in the linear regression model, which has plenty of predictors, resulting in a more robust and accurate prediction model."
   ]
  },
  {
   "cell_type": "markdown",
   "id": "d790581b",
   "metadata": {},
   "source": [
    "## Case II"
   ]
  },
  {
   "cell_type": "code",
   "execution_count": 12,
   "id": "315f476e",
   "metadata": {},
   "outputs": [
    {
     "data": {
      "text/plain": [
       "((506, 591), 506)"
      ]
     },
     "execution_count": 12,
     "metadata": {},
     "output_type": "execute_result"
    }
   ],
   "source": [
    "myData2 = pd.read_csv(\"Coding2_Data3.csv\")\n",
    "# myData.head()\n",
    "Y2 = myData2['Y']\n",
    "X2 = myData2.drop(['Y'], axis = 1)\n",
    "X2.shape, len(Y2)\n"
   ]
  },
  {
   "cell_type": "code",
   "execution_count": 13,
   "id": "30bbf923",
   "metadata": {},
   "outputs": [
    {
     "name": "stderr",
     "output_type": "stream",
     "text": [
      "100%|███████████████████████████████████████████| 50/50 [24:25<00:00, 29.31s/it]\n"
     ]
    }
   ],
   "source": [
    "mspe_ridge_case2 = np.zeros(numIteration)\n",
    "mspe_lasso_min_case2 = np.zeros(numIteration)\n",
    "mspe_lasso_1se_case2 = np.zeros(numIteration)\n",
    "mspe_lasso_refit_case2 = np.zeros(numIteration)\n",
    "mspe_pcr_case2 = np.zeros(numIteration)\n",
    "\n",
    "optimal_ridge_alpha_case2 = np.zeros(numIteration)\n",
    "optimal_lasso_min_case2 = np.zeros(numIteration)\n",
    "optimal_lasso_1se_case2 = np.zeros(numIteration)\n",
    "\n",
    "for i in tqdm(range(numIteration)):\n",
    "\n",
    "    # Step 0: Splitting the data into training and testing sets\n",
    "\n",
    "    lenData = len(Y2)\n",
    "\n",
    "    indices = np.arange(0, lenData)\n",
    "    np.random.shuffle(indices)\n",
    "    test_ind = indices[:int(np.floor(0.25*lenData))]\n",
    "    train_ind = indices[len(test_ind):]\n",
    "\n",
    "    X_train = X2.iloc[train_ind]\n",
    "    Y_train = Y2[train_ind]\n",
    "    X_test = X2.iloc[test_ind]\n",
    "    Y_test = Y2[test_ind]\n",
    "    \n",
    "    scaler = StandardScaler()\n",
    "    X_train_tmp = scaler.fit_transform(X_train)\n",
    "    X_test_tmp = scaler.fit_transform(X_test)\n",
    "    \n",
    "    X_train_scaled = pd.DataFrame(X_train_tmp, columns = X_train.columns)\n",
    "    X_test_scaled = pd.DataFrame(X_test_tmp, columns = X_test.columns)\n",
    "    \n",
    "    # Step 1: Ridge Regression\n",
    "    \n",
    "    ridge_alphas = np.logspace(-10, 1, 100)\n",
    "    ridgecv = RidgeCV(alphas = ridge_alphas, cv = 10, \n",
    "                      scoring = 'neg_mean_squared_error')\n",
    "    ridgecv.fit(X_train_scaled, Y_train)\n",
    "    optimal_ridge_alpha_case2[i] = ridgecv.alpha_\n",
    "    \n",
    "    ridge_model = Ridge(alpha = ridgecv.alpha_)\n",
    "    ridge_model.fit(X_train_scaled, Y_train)\n",
    "    mspe_ridge_case2[i] = mean_squared_error(Y_test, ridge_model.predict(X_test_scaled))\n",
    "    \n",
    "    # Step 2: Lasso using lambda.min\n",
    "    \n",
    "    lasso_alphas = np.logspace(-10, 1, 100)\n",
    "    lassocv = LassoCV(alphas = lasso_alphas, cv = 10)\n",
    "    lassocv.fit(X_train_scaled, Y_train)\n",
    "\n",
    "    mean_mse = np.mean(lassocv.mse_path_, axis=1)\n",
    "    std_mse = np.std(lassocv.mse_path_, axis=1) / np.sqrt(10) \n",
    "\n",
    "    cv_alphas = lassocv.alphas_\n",
    "    min_idx = np.argmin(mean_mse)\n",
    "    alpha_min = cv_alphas[min_idx]\n",
    "\n",
    "    threshold = mean_mse[min_idx] + std_mse[min_idx]\n",
    "    alpha_1se = max(cv_alphas[np.where(mean_mse <= threshold)])\n",
    "\n",
    "    optimal_lasso_min_case2[i] = alpha_min\n",
    "    optimal_lasso_1se_case2[i] = alpha_1se\n",
    "    \n",
    "    ## Lasso with lambda.min\n",
    "    lasso_model_min = Lasso(alpha = alpha_min, max_iter=10000)\n",
    "    lasso_model_min.fit(X_train_scaled, Y_train)\n",
    "    mspe_lasso_min_case2[i] = mean_squared_error(Y_test, lasso_model_min.predict(X_test_scaled))\n",
    "    \n",
    "    # Step 3: Lasso using lambda.1se\n",
    "    lasso_model_1se = Lasso(alpha = alpha_1se,  max_iter=10000)\n",
    "    lasso_model_1se.fit(X_train_scaled, Y_train)\n",
    "    mspe_lasso_1se_case2[i] = mean_squared_error(Y_test, lasso_model_1se.predict(X_test_scaled))\n",
    "    \n",
    "    # Step 4: Refit with alpha_1se\n",
    "    nonzero_indices = np.where(lasso_model_1se.coef_ != 0)[0]\n",
    "    lm_refit = lm()\n",
    "    lm_refit.fit(X_train_scaled.iloc[:, nonzero_indices], Y_train)\n",
    "    mspe_lasso_refit_case2[i] = mean_squared_error(Y_test, lm_refit.predict(X_test_scaled.iloc[:, nonzero_indices]))\n",
    "    \n",
    "    # Step 5: PCR\n",
    "    pcr = PCR()\n",
    "    pcr.fit(X_train_scaled.to_numpy(), Y_train.to_numpy())\n",
    "    mspe_pcr_case2[i] = mean_squared_error(Y_test, pcr.predict(X_test_scaled.to_numpy()))"
   ]
  },
  {
   "cell_type": "code",
   "execution_count": 14,
   "id": "5622991d",
   "metadata": {},
   "outputs": [],
   "source": [
    "data2 = [mspe_ridge_case2, mspe_lasso_min_case2, mspe_lasso_1se_case2, mspe_lasso_refit_case2, mspe_pcr_case2 ]\n",
    "labels2 = ['Ridge', 'Lasso-min', 'Lasso-1se', 'Lasso-refit', 'PCR']\n",
    "\n",
    "data2_convert = np.array(data2).T\n",
    "\n",
    "df2 = pd.DataFrame(data2_convert, columns=labels2)\n",
    "df2.to_csv('mspe_case2.csv')"
   ]
  },
  {
   "cell_type": "code",
   "execution_count": 15,
   "id": "bc797aa2",
   "metadata": {},
   "outputs": [
    {
     "data": {
      "image/png": "[encoded data removed]",
      "text/plain": [
       "<Figure size 432x288 with 1 Axes>"
      ]
     },
     "metadata": {
      "needs_background": "light"
     },
     "output_type": "display_data"
    }
   ],
   "source": [
    "data2 = pd.read_csv(\"mspe_case2.csv\")\n",
    "labels2 = ['Ridge', 'Lasso-min', 'Lasso-1se', 'Lasso-refit', 'PCR']\n",
    "\n",
    "fig2, ax2 = plt.subplots()\n",
    "\n",
    "# Plot stripe charts for each set\n",
    "for i in range(5):\n",
    "    plt.scatter(x0+i, data2_convert[:,i], marker='o', s = 10)\n",
    "plt.boxplot(data2_convert,vert=True)\n",
    "\n",
    "ax2.set_ylabel('MSPE')\n",
    "ax2.set_xticks(range(1,6))\n",
    "ax2.set_xticklabels(labels2[0:5])\n",
    "ax2.set_title('Stripe Chart with Boxplots')\n",
    "\n",
    "plt.show()"
   ]
  },
  {
   "cell_type": "code",
   "execution_count": 16,
   "id": "ed2f1345",
   "metadata": {},
   "outputs": [
    {
     "name": "stdout",
     "output_type": "stream",
     "text": [
      "[0.10679925 0.04342793 0.04536705 0.04492143 0.05884208]\n",
      "[0.0096825  0.00688827 0.00782473 0.00844662 0.01064482]\n"
     ]
    }
   ],
   "source": [
    "mean_mspe_case2 = data2_convert.mean(0)\n",
    "print(mean_mspe_case2)\n",
    "std_mspe_case2 = data2_convert.std(0)\n",
    "print(std_mspe_case2)"
   ]
  },
  {
   "cell_type": "markdown",
   "id": "12433799",
   "metadata": {},
   "source": [
    "#### 1. Which procedure or procedures yield the best performance in terms of MSPE?\n",
    "According to the stripe chart and the means and standard deviations of MSPE, the Lasso-min yields the best performance.\n",
    "\n",
    "#### 2. Conversely, which procedure or procedures show the poorest performance?\n",
    "The full model exhibits the poorest performance, as clearly depicted in the figure, where the MSPE of the full model is notably larger than that of the others.\n",
    "\n",
    "#### 3. Have you observed any procedure or procedures that performed well in Case I but exhibited poorer performance in Case II, or vice versa? If so, please offer an explanation.\n",
    "The most obvious example is ridge. In case I, Ridge's predictive performance is on par with that of Lasso (and PCR), boasting a mean MSPE of 0.035. However, in case II, Ridge's mean MSPE increases significantly to 0.107, diverging from Lasso (and PCR).\n",
    "Ridge does not force any coefficients to be exactly zero. Instead, it shrinks the coefficients towards zero but typically retains all features in the model. In contrast, Lasso can drive some coefficients to exactly zero, effectively removing the corresponding features from the model. Therefore, Ridge works well when multicollinearity is a concern (case I), but in the case where only a subset of the features is relevant (case II), Lasso performs better.\n",
    "\n",
    "\n",
    "#### 4. Given that Coding2_Data3.csv includes all features found in Coding2_Data2.csv, one might anticipate that the best MSPE in Case II would be equal to or lower than the best MSPE in Case I. Do your simulation results corroborate this expectation? If not, please offer an explanation.\n",
    "Regarding MSPE, my simulation results do not align with the anticipation. \n",
    "(1) The majority of the variation in the dataset Coding2_Data3.csv is attributed to noise, which can potentially amplify the problem of overfitting in regression analysis. \n",
    "(2) When noise is present, there exists a trade-off between bias and variance. Noise-induced predictors can intensify this trade-off by inflating the model's variance. \n",
    "(3) Additionally, the dimensionality of the regression model exceeds the available number of observations, resulting in decreased informativeness, reducing the accuracy of the model."
   ]
  },
  {
   "cell_type": "markdown",
   "id": "9144590b",
   "metadata": {},
   "source": [
    "# Part One"
   ]
  },
  {
   "cell_type": "code",
   "execution_count": 17,
   "id": "51680630",
   "metadata": {},
   "outputs": [],
   "source": [
    "import statistics as stat"
   ]
  },
  {
   "cell_type": "code",
   "execution_count": 18,
   "id": "975746d6",
   "metadata": {},
   "outputs": [
    {
     "data": {
      "text/plain": [
       "((506, 13), 506)"
      ]
     },
     "execution_count": 18,
     "metadata": {},
     "output_type": "execute_result"
    }
   ],
   "source": [
    "myData_part1 = pd.read_csv(\"Coding2_Data.csv\")\n",
    "var_names = myData_part1.columns\n",
    "y_part1 = myData_part1[['Y']].to_numpy()\n",
    "X_part1 = myData_part1.drop(['Y'], axis = 1).to_numpy()\n",
    "X_part1.shape, len(y_part1)"
   ]
  },
  {
   "cell_type": "code",
   "execution_count": 19,
   "id": "5948ade8",
   "metadata": {},
   "outputs": [],
   "source": [
    "def one_var_lasso(v, x, lam):\n",
    "    nv = len(v)\n",
    "    alpha = np.dot(v,x)/(np.linalg.norm(x)**2)\n",
    "    rho = nv*lam/(np.linalg.norm(x)**2)\n",
    "    if alpha > rho:\n",
    "        return(alpha-rho)\n",
    "    elif alpha < -rho:\n",
    "        return(alpha + rho)\n",
    "    else:\n",
    "        return 0.0\n",
    "    \n",
    "def MyLasso(X_input, y_input, lam_seq, maxit):\n",
    "    \n",
    "    # Input\n",
    "    # X: n-by-p design matrix without the intercept \n",
    "    # y: n-by-1 response vector \n",
    "    # lam.seq: sequence of lambda values (arranged from large to small)\n",
    "    # maxit: number of updates for each lambda \n",
    "    \n",
    "    # Output\n",
    "    # B: a (p+1)-by-len(lam.seq) coefficient matrix with the first row being the intercept sequence \n",
    "    \n",
    "    X = X_input\n",
    "    n, p = X.shape\n",
    "    nlam = len(lam_seq)\n",
    "    B = np.zeros((p+1, nlam))\n",
    "    y = y_input.reshape(n,) # (506,)\n",
    "\n",
    "    \n",
    "    # Standardize X by centering and scaling each column \n",
    "    meanX = X.mean(0) # meanX = mean of each column, [1, 13]\n",
    "    stdX = X.std(0) # stdX = standard deviation of each column, [1, 13]\n",
    "    newX = (X-meanX)/stdX # [506, 13]\n",
    "    \n",
    "    # Initilize coef vector b and residual vector v\n",
    "    b = np.zeros(p)\n",
    "#    v = y\n",
    "    \n",
    "    count = 0\n",
    "    meanY = y.mean(0) # (1,)\n",
    "    \n",
    "    # Triple nested loop\n",
    "    for m in range(nlam):\n",
    "        b = np.zeros(p)\n",
    "        #v = y\n",
    "        for step in range(maxit):\n",
    "            for j in range(p):\n",
    "                X_j = newX[:, j].reshape(n,)  # (506,)\n",
    "                yp = np.dot(newX, b).reshape(n,) # (506,13)*(13,) = (506,)\n",
    "                v = y - yp + X_j * b[j]  # (506,)-(506,)+(506,)=(506,)\n",
    "                b[j] = one_var_lasso(v, X_j, lam_seq[m]) \n",
    "        B[1:, m] = b / stdX #+ meanX # b:(13,), std(13,)\n",
    "        B[0, m] = meanY - np.dot(meanX, B[1:, m])\n",
    "    \n",
    "    return(B)\n"
   ]
  },
  {
   "cell_type": "code",
   "execution_count": 20,
   "id": "707be1c6",
   "metadata": {},
   "outputs": [
    {
     "name": "stdout",
     "output_type": "stream",
     "text": [
      "(14, 80)\n"
     ]
    },
    {
     "data": {
      "text/plain": [
       "(-8.35, -0.6499999999999999, -0.30999368240557257, 0.4997421559471155)"
      ]
     },
     "execution_count": 20,
     "metadata": {},
     "output_type": "execute_result"
    },
    {
     "data": {
      "image/png": "[encoded data removed]",
      "text/plain": [
       "<Figure size 864x576 with 1 Axes>"
      ]
     },
     "metadata": {
      "needs_background": "light"
     },
     "output_type": "display_data"
    }
   ],
   "source": [
    "log_lam_seq = np.linspace(-1, -8, num = 80)\n",
    "lam_seq = np.exp(log_lam_seq)\n",
    "myout = MyLasso(X_part1, y_part1, lam_seq , maxit = 100)\n",
    "\n",
    "p, _ = myout.shape\n",
    "print(myout.shape)\n",
    "plt.figure(figsize = (12,8))\n",
    "\n",
    "for i in range(p-1):\n",
    "    plt.plot(log_lam_seq, myout[i+1, :], label = var_names[i])\n",
    "\n",
    "#plt.plot(np.ones(13)*(-1),meanX,'*')\n",
    "    \n",
    "plt.xlabel('Log Lambda')\n",
    "plt.ylabel('Coefficients')\n",
    "plt.title('Lasso Paths - Numpy implementation')\n",
    "plt.legend()\n",
    "plt.axis('tight')"
   ]
  },
  {
   "cell_type": "code",
   "execution_count": 21,
   "id": "c82a8501",
   "metadata": {},
   "outputs": [
    {
     "name": "stdout",
     "output_type": "stream",
     "text": [
      "(14, 80)\n",
      "0.0046473537321949365\n"
     ]
    }
   ],
   "source": [
    "lasso_coef = pd.read_csv(\"Coding2_lasso_coefs.csv\").to_numpy()\n",
    "print(lasso_coef.shape)\n",
    "print(abs(myout - lasso_coef).max())"
   ]
  }
 ],
 "metadata": {
  "kernelspec": {
   "display_name": "Python 3 (ipykernel)",
   "language": "python",
   "name": "python3"
  },
  "language_info": {
   "codemirror_mode": {
    "name": "ipython",
    "version": 3
   },
   "file_extension": ".py",
   "mimetype": "text/x-python",
   "name": "python",
   "nbconvert_exporter": "python",
   "pygments_lexer": "ipython3",
   "version": "3.8.17"
  }
 },
 "nbformat": 4,
 "nbformat_minor": 5
}
