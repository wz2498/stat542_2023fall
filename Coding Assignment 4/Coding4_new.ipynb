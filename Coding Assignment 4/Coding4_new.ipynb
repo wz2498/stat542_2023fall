{
 "cells": [
  {
   "cell_type": "markdown",
   "metadata": {},
   "source": [
    "Wenqing Zhu (UIN:653942417) and Siyuan Qian (UIN:673877907)\n",
    "\n",
    "Contributions:\n",
    "\n",
    "Wenqing Zhu: Part I  \n",
    "\n",
    "Siyuan Qian: Part II"
   ]
  },
  {
   "cell_type": "code",
   "execution_count": 1,
   "metadata": {},
   "outputs": [],
   "source": [
    "import numpy as np\n",
    "import requests\n",
    "import matplotlib.pyplot as plt\n",
    "import math"
   ]
  },
  {
   "cell_type": "markdown",
   "metadata": {},
   "source": [
    "Part I"
   ]
  },
  {
   "cell_type": "code",
   "execution_count": 57,
   "metadata": {},
   "outputs": [],
   "source": [
    "\n",
    "# Define the myEM function to implement the EM algorithm:\n",
    "# INPUT:\n",
    "#   - data: the datase\n",
    "#   - G: the number of components\n",
    "#   - initial parameters\n",
    "#   - itmax: the number of iterations\n",
    "# OUTPUT:\n",
    "#   - prob: a G-dimensional probability vector (p1, ..., pG)\n",
    "#   - mean: A p-by-G matrix with the k-th column being μk, the p-dimensional mean for the k-th Gaussian component.\n",
    "#   - Sigma: A p-by-p covariance matrix   shared by all G components;\n",
    "#   - loglik: A number equal to sum_over_N(log(sum_over_G(pk*N(x;mu,sigma))))\n",
    "\n",
    "def myEM(data, G, mu, sigma, p, itmax):\n",
    "\n",
    "    likelihood = np.zeros((itmax,))\n",
    "\n",
    "    for j in range(itmax):\n",
    "        \n",
    "        CondProb = Estep(data, mu, sigma, p, G)\n",
    "        mu, sigma, p = Mstep(data,CondProb,G)\n",
    "        likelihood[j] = loglik(data, mu, sigma, p, G, CondProb)\n",
    "\n",
    "    return mu, sigma, p, likelihood\n",
    "\n",
    "\n",
    "def Estep(data, mu, sigma, p, G):\n",
    "\n",
    "    n = data.shape[0]\n",
    "    d = data.shape[1]\n",
    "    sigma_invers = np.linalg.inv(sigma)\n",
    "    sigma_determ = np.linalg.det(sigma)\n",
    "\n",
    "    exponent = [] # np.zeros((n,1))\n",
    "    gaussian_prob = np.zeros((n,G))\n",
    "    CondProb = np.zeros((n,G))  # an nxG matrix, where each element represents a conditional probability\n",
    "    factor = math.sqrt( ( (2*math.pi)**d ) * sigma_determ )\n",
    "    Prob_ik = np.zeros((n,G))\n",
    "\n",
    "    for i in range(G):\n",
    "        # Compute the PDF of the multivariate normal distribution\n",
    "        mu_i = mu[:,i]\n",
    "        p_i = p[i]\n",
    "        dis_i = data - mu_i\n",
    "        Prob_matrix = (dis_i @ sigma_invers) @ dis_i.T\n",
    "        Diag = np.array([Prob_matrix[i][i] for i in range(n)])\n",
    "        # gaussian_prob = p_i/factor * np.exp(-0.5*Diag)\n",
    "        gaussian_prob[:,i] = p_i/factor * np.exp(-0.5*Diag)\n",
    "    \n",
    "    gaussiam_sum = np.sum(gaussian_prob,axis = 1).reshape(n,1)\n",
    "    CondProb = gaussian_prob/gaussiam_sum\n",
    "\n",
    "    return CondProb\n",
    "\n",
    "\n",
    "def Mstep(data,CondProb,G):\n",
    "    n = data.shape[0]\n",
    "    d = data.shape[1]\n",
    "\n",
    "    sum_CondProb = np.sum( CondProb, axis = 0) \n",
    "    updated_p = sum_CondProb/n\n",
    "\n",
    "    updated_mu = np.zeros((d,G))\n",
    "    updated_sigma = np.zeros((d,d))\n",
    "\n",
    "    for i in range(G):\n",
    "        mu_i = []\n",
    "        dis_i = []\n",
    "        sigma_i = []\n",
    "        CondProb_i = []\n",
    "        \n",
    "        CondProb_i = CondProb[:,i].reshape(n,1)\n",
    "        \n",
    "        mu_i = np.sum((CondProb_i * data),axis = 0)/np.sum(CondProb_i)\n",
    "        updated_mu[:,i] = mu_i\n",
    "\n",
    "        dis_i = np.sqrt(CondProb_i) * (data - mu_i)\n",
    "        sigma_i = np.dot(dis_i.T,dis_i)/np.sum(CondProb_i)\n",
    "        \n",
    "        updated_sigma = updated_sigma + updated_p[i]*sigma_i\n",
    "        \n",
    "    return updated_mu, updated_sigma, updated_p\n",
    "\n",
    "\n",
    "def loglik(data, mu, sigma, p, G, CondProb):\n",
    "\n",
    "    n = data.shape[0]\n",
    "    d = data.shape[1]\n",
    "    sigma_invers = np.linalg.inv(sigma)\n",
    "    sigma_determ = np.linalg.det(sigma)\n",
    "    factor = math.sqrt( ( (2*math.pi)**d ) * sigma_determ )\n",
    "\n",
    "    Prob_matrix = np.zeros((n,n))\n",
    "    gaussian_prob = np.zeros((n,G))\n",
    "    # Prob_ik = np.zeros((n,G))   \n",
    "\n",
    "    for i in range(G):\n",
    "        mu_i = mu[:,i]\n",
    "        p_i = p[i]\n",
    "        dis_i = data - mu_i\n",
    "        CondProb_i = CondProb[:,i]\n",
    "        \n",
    "        Prob_matrix = (dis_i @ sigma_invers) @ dis_i.T\n",
    "        Diag = np.array([Prob_matrix[i][i] for i in range(n)])\n",
    "        gaussian_prob[:,i] = p_i/factor * np.exp(-0.5*Diag)\n",
    "        # Prob_ik[:, i] = CondProb_i * np.log( gaussian_prob)\n",
    "    \n",
    "    g = np.sum( np.log( np.sum(gaussian_prob,axis = 1) ))\n",
    "    \n",
    "    return g\n",
    "\n",
    "\n",
    "def Init(G,data):\n",
    "    \n",
    "    n = data.shape[0]\n",
    "    dimX = data.shape[1]\n",
    "    mu = np.zeros((dimX, G))\n",
    "    sigma = np.zeros((dimX, dimX))\n",
    "    p = np.zeros((G,))\n",
    "\n",
    "    if G == 2:\n",
    "        p[0] = 10/n\n",
    "        p[1] = 1-p[0]\n",
    "        mu[:,0] = np.mean(data[0:10,:], axis = 0)\n",
    "        mu[:,1] = np.mean(data[10:,:], axis = 0)\n",
    "        dis_0 = data[0:10,:] - mu[:,0]\n",
    "        dis_1 = data[10:,:] - mu[:,1]\n",
    "        sigma = (np.dot(dis_0.T,dis_0) + np.dot(dis_1.T,dis_1))/n\n",
    "        \n",
    "    elif G == 3:\n",
    "        p[0] = 10/n\n",
    "        p[1] = 20/n\n",
    "        p[2] = 1-p[0]-p[1]\n",
    "        mu[:,0] = np.mean(data[0:10,:], axis = 0)\n",
    "        mu[:,1] = np.mean(data[10:30,:], axis = 0)\n",
    "        mu[:,2] = np.mean(data[30:,:], axis = 0)\n",
    "        dis_0 = data[0:10,:] - mu[:,0]\n",
    "        dis_1 = data[10:30,:] - mu[:,1]\n",
    "        dis_2 = data[30:,:] - mu[:,2]\n",
    "        sigma = (np.dot(dis_0.T,dis_0) + np.dot(dis_1.T,dis_1) + np.dot(dis_2.T,dis_2))/n\n",
    "\n",
    "    else:\n",
    "        print('Error: please enter G=2 or G=3 ')\n",
    "    \n",
    "    # print(sigma.shape)\n",
    "    if sigma.shape[0] != dimX:\n",
    "        print('Error: wrong array dimension!')\n",
    "    \n",
    "    return mu, sigma, p"
   ]
  },
  {
   "cell_type": "code",
   "execution_count": 49,
   "metadata": {},
   "outputs": [
    {
     "name": "stdout",
     "output_type": "stream",
     "text": [
      "(272, 3)\n"
     ]
    }
   ],
   "source": [
    "url = 'https://liangfgithub.github.io/Data/faithful.dat'\n",
    "response = requests.get(url)\n",
    "if response.status_code == 200:\n",
    "    data = response.text\n",
    "\n",
    "    lines = data.split('\\n')[1:]\n",
    "    data_list = []\n",
    "\n",
    "    for line in lines:\n",
    "        values = line.split()  # Assuming columns are separated by spaces\n",
    "        if len(values) == 3:\n",
    "            data_list.append([float(val) for val in values])\n",
    "\n",
    "    # Convert the list of lists to a NumPy array\n",
    "    data_array = np.array(data_list)\n",
    "    print(data_array.shape)\n",
    "\n",
    "else:\n",
    "    print(\"Failed to download the data.\")\n"
   ]
  },
  {
   "cell_type": "code",
   "execution_count": 59,
   "metadata": {},
   "outputs": [
    {
     "name": "stdout",
     "output_type": "stream",
     "text": [
      "[0.04297883 0.95702117]\n",
      "[[ 3.49564188  3.48743016]\n",
      " [76.79789154 70.63205853]]\n",
      "[[  1.29793612  13.92433626]\n",
      " [ 13.92433626 182.58009247]]\n",
      "-1289.5693549424104\n"
     ]
    }
   ],
   "source": [
    "X = data_array[:,1:]\n",
    "\n",
    "G = 2\n",
    "itmax = 20\n",
    "\n",
    "mu, sigma, p = Init(G,X)\n",
    "mu_out, sigma_out, p_out, likelihood_out  = myEM(X, G, mu, sigma, p, itmax)\n",
    "\n",
    "print(p_out)\n",
    "print(mu_out)\n",
    "print(sigma_out)\n",
    "\n",
    "print(likelihood_out[itmax-1])\n",
    "\n"
   ]
  },
  {
   "cell_type": "code",
   "execution_count": 60,
   "metadata": {},
   "outputs": [
    {
     "name": "stdout",
     "output_type": "stream",
     "text": [
      "[0.04363422 0.07718656 0.87917922]\n",
      "[[ 3.51006918  2.81616674  3.54564083]\n",
      " [77.10563811 63.35752634 71.25084801]]\n",
      "[[  1.26015772  13.51153756]\n",
      " [ 13.51153756 177.96419105]]\n",
      "-1289.350958862739\n"
     ]
    }
   ],
   "source": [
    "G3 = 3\n",
    "itmax_g3 = 20\n",
    "\n",
    "mu_g3, sigma_g3, p_g3 = Init(G3,X)\n",
    "\n",
    "mu_g3_out, sigma_g3_out, p_g3_out, likelihood_g3_out  = myEM(X, G3, mu_g3, sigma_g3, p_g3, itmax_g3)\n",
    "\n",
    "print(p_g3_out)\n",
    "print(mu_g3_out)\n",
    "print(sigma_g3_out)\n",
    "\n",
    "print(likelihood_g3_out[itmax-1])"
   ]
  },
  {
   "cell_type": "markdown",
   "metadata": {},
   "source": [
    "Part II"
   ]
  },
  {
   "cell_type": "code",
   "execution_count": 2,
   "metadata": {},
   "outputs": [],
   "source": [
    "def forward(obs,A,B,w):\n",
    "    T = len(obs)\n",
    "    mz = A.shape[0]\n",
    "    alpha = np.zeros([T,mz])\n",
    "    alpha[0] = w*B[:,obs[0]]\n",
    "\n",
    "    # alpha_test = np.zeros([T,mz])\n",
    "    # alpha_test[0] = w*B[:,obs[0]]\n",
    "    for t in range(1,T):\n",
    "        # alpha[t] = np.sum(alpha[t-1]*A.T,axis = 1)*B[:,obs[t]]\n",
    "        alpha[t] = np.dot(alpha[t-1],A)*B[:,obs[t]]\n",
    "        # for i in range(mz):\n",
    "        #     for j in range(mz):\n",
    "        #         alpha_test[t,i] += alpha_test[t-1,j]*A[j,i]*B[i,obs[t]]\n",
    "    # print(np.max(alpha-alpha_test))\n",
    "    return alpha\n",
    "\n",
    "def backward(obs,A,B):\n",
    "    T = len(obs)\n",
    "    mz = A.shape[0]\n",
    "    beta = np.zeros([T,mz])\n",
    "    beta[-1] = 1\n",
    "\n",
    "    # beta_test = np.zeros_like(beta)\n",
    "    # beta_test[-1] = 1\n",
    "    for t in range(T-2,-1,-1):\n",
    "        beta[t] = np.sum(A*(B[:,obs[t+1]]*beta[t+1]),axis = 1)\n",
    "    #     for i in range(mz):\n",
    "    #         for j in range(mz):\n",
    "    #             beta_test[t,i] += A[i,j]*B[j,obs[t+1]]*beta[t+1,j]\n",
    "    # print(beta==beta_test)\n",
    "    return beta\n",
    "\n",
    "def BW_onestep(obs,parameter):\n",
    "    A,B,w = parameter\n",
    "    T = len(obs)\n",
    "\n",
    "    mz = A.shape[0]\n",
    "    mx = B.shape[1]\n",
    "\n",
    "    alpha = forward(obs,A,B,w)\n",
    "    beta = backward(obs,A,B)\n",
    "    myGamma = np.empty([mz,mz,T-1])\n",
    "    for t in range(T-1):\n",
    "        for i in range(mz):\n",
    "            for j in range(mz):\n",
    "                myGamma[i,j,t] = alpha[t,i]*A[i,j]*B[j,obs[t+1]]*beta[t+1,j]\n",
    "    Gamma = np.empty([mz,T])\n",
    "    Gamma[:,:-1] = np.sum(myGamma,axis=1)\n",
    "    Gamma[:,-1] = np.sum(myGamma[:,:,-1],axis = 0)\n",
    "    A_new_numerator = np.sum(myGamma,axis = -1)\n",
    "    A_new_denominator = np.sum(np.sum(myGamma,axis = -1),axis = -1)[:,np.newaxis]\n",
    "    A_new = A_new_numerator/A_new_denominator\n",
    "\n",
    "    B_denominator = np.sum(Gamma,axis = -1)\n",
    "    B_new = np.zeros_like(B)\n",
    "    for l in range(mx):\n",
    "        index = np.where(obs[:-1] == l)[0]\n",
    "        # print(index)\n",
    "        # a = np.sum(Gamma[:,index],axis = -1)\n",
    "        B_new[:,l] = np.sum(Gamma[:,index],axis = -1)/B_denominator\n",
    "    # w_new = Gamma[:,0]\n",
    "    return A_new,B_new\n",
    "\n",
    "def myViterbi(obs,mx,mz,A,B,w):\n",
    "    T = len(obs)\n",
    "    Delta = np.zeros([T,mz])\n",
    "    Delta[0,:] = w*B[:,obs[0]]\n",
    "    \n",
    "    for t in range(1,T):\n",
    "        Delta[t] = np.max(Delta[t-1][:,np.newaxis]*A, axis = 0)*B[:,obs[t]]\n",
    "    \n",
    "    Z = np.zeros(T).astype(int)\n",
    "    Z[-1] = np.argmax(Delta[-1])\n",
    "    for t in range(T-2,-1,-1):\n",
    "        Z[t] = np.argmax(Delta[t]*A[:,Z[t+1]])\n",
    "    return Z\n",
    "    \n",
    "\n",
    "\n"
   ]
  },
  {
   "cell_type": "code",
   "execution_count": 3,
   "metadata": {},
   "outputs": [],
   "source": [
    "test1 = np.loadtxt('./coding4_part2_data.txt').astype(int)-1\n",
    "w = np.array([0.5,0.5]).T\n",
    "A = np.ones((2,2))*0.5\n",
    "B = np.array([[1/9,3/9,5/9],[1/6,2/6,3/6]])\n",
    "A_true = np.array([[0.49793938,0.50206062],[0.44883431, 0.55116569]])\n",
    "B_true = np.array([[0.22159897,0.20266127,0.57573976],[0.34175148,0.17866665,0.47958186]])\n",
    "mx = 3\n",
    "mz = 2\n",
    "for i in range(100):\n",
    "    A_new,B_new= BW_onestep(test1,(A,B,w))\n",
    "    A = A_new\n",
    "    B = B_new\n",
    "\n"
   ]
  },
  {
   "cell_type": "code",
   "execution_count": 5,
   "metadata": {},
   "outputs": [
    {
     "name": "stdout",
     "output_type": "stream",
     "text": [
      "[[0.4978    0.5022   ]\n",
      " [0.4486599 0.5513401]]\n"
     ]
    }
   ],
   "source": [
    "np.set_printoptions(precision=8)\n",
    "print(A)"
   ]
  },
  {
   "cell_type": "code",
   "execution_count": 6,
   "metadata": {},
   "outputs": [
    {
     "name": "stdout",
     "output_type": "stream",
     "text": [
      "0.00031574270530074146\n"
     ]
    }
   ],
   "source": [
    "print(np.linalg.norm(A-A_true))"
   ]
  },
  {
   "cell_type": "code",
   "execution_count": 7,
   "metadata": {},
   "outputs": [
    {
     "name": "stdout",
     "output_type": "stream",
     "text": [
      "[[0.22167819 0.19702881 0.57595216]\n",
      " [0.3416422  0.17424007 0.47942261]]\n"
     ]
    }
   ],
   "source": [
    "print(B)"
   ]
  },
  {
   "cell_type": "code",
   "execution_count": 8,
   "metadata": {},
   "outputs": [
    {
     "name": "stdout",
     "output_type": "stream",
     "text": [
      "0.007169930753910339\n"
     ]
    }
   ],
   "source": [
    "print(np.linalg.norm(B-B_true))"
   ]
  },
  {
   "cell_type": "markdown",
   "metadata": {},
   "source": [
    "A and B are close to their true value but not exactly the same. We suppose it is because of truncation and part of A and B can not be displayed with 8 digits."
   ]
  },
  {
   "cell_type": "code",
   "execution_count": 142,
   "metadata": {},
   "outputs": [],
   "source": [
    "# Initialize an empty list to hold all values\n",
    "data = []\n",
    "\n",
    "# Open the file for reading\n",
    "with open('./coding4_part2_Z.txt', 'r') as file:\n",
    "    # Iterate over each line in the file\n",
    "    for line in file:\n",
    "        # Strip leading/trailing whitespace and split the line into columns\n",
    "        # Convert each column value to int and extend the data list\n",
    "        data.extend([int(value) for value in line.strip().split()])\n",
    "\n",
    "# 'data' is now a one-dimensional list with integers\n",
    "data_Z = np.array(data)\n",
    "\n",
    "\n",
    "# A = np.array([[0.49793938,0.50206062],[0.44883431, 0.55116569]])\n",
    "# B = np.array([[0.22159897,0.20266127,0.57573976],[0.34175148,0.17866665,0.47958186]])\n",
    "# w = np.array([0.5,0.5]).T\n",
    "# A = np.ones((2,2))*0.5\n",
    "# B = np.array([[1/9,3/9,5/9],[1/6,2/6,3/6]])\n",
    "a = myViterbi(test1,mx,mz,A,B,w)+1"
   ]
  },
  {
   "cell_type": "code",
   "execution_count": 143,
   "metadata": {},
   "outputs": [
    {
     "data": {
      "text/plain": [
       "array([ True,  True,  True,  True,  True,  True,  True,  True,  True,\n",
       "        True,  True,  True,  True,  True,  True,  True,  True,  True,\n",
       "        True,  True,  True,  True,  True,  True,  True,  True,  True,\n",
       "        True,  True,  True,  True,  True,  True,  True,  True,  True,\n",
       "        True,  True,  True,  True,  True,  True,  True,  True,  True,\n",
       "        True,  True,  True,  True,  True,  True,  True,  True,  True,\n",
       "        True,  True,  True,  True,  True,  True,  True,  True,  True,\n",
       "        True,  True,  True,  True,  True,  True,  True,  True,  True,\n",
       "        True,  True,  True,  True,  True,  True,  True,  True,  True,\n",
       "        True,  True,  True,  True,  True,  True,  True,  True,  True,\n",
       "        True,  True,  True,  True,  True,  True,  True,  True,  True,\n",
       "        True,  True,  True,  True,  True,  True,  True,  True,  True,\n",
       "        True,  True,  True,  True,  True,  True,  True,  True,  True,\n",
       "        True,  True,  True,  True,  True,  True,  True,  True,  True,\n",
       "        True,  True,  True,  True,  True,  True,  True,  True,  True,\n",
       "        True,  True,  True,  True,  True,  True,  True,  True,  True,\n",
       "        True,  True,  True,  True,  True,  True,  True,  True,  True,\n",
       "        True,  True,  True,  True,  True,  True,  True,  True,  True,\n",
       "        True,  True,  True,  True,  True,  True,  True,  True,  True,\n",
       "        True,  True,  True,  True,  True,  True,  True,  True,  True,\n",
       "        True,  True,  True,  True,  True,  True,  True,  True,  True,\n",
       "        True,  True,  True,  True,  True,  True,  True,  True,  True,\n",
       "        True,  True])"
      ]
     },
     "execution_count": 143,
     "metadata": {},
     "output_type": "execute_result"
    }
   ],
   "source": [
    "data_Z == a"
   ]
  },
  {
   "cell_type": "markdown",
   "metadata": {},
   "source": [
    "No matter we try A and B from the code or the true value, all the hidden layer matches. "
   ]
  },
  {
   "cell_type": "code",
   "execution_count": null,
   "metadata": {},
   "outputs": [],
   "source": []
  }
 ],
 "metadata": {
  "kernelspec": {
   "display_name": "base",
   "language": "python",
   "name": "python3"
  },
  "language_info": {
   "codemirror_mode": {
    "name": "ipython",
    "version": 3
   },
   "file_extension": ".py",
   "mimetype": "text/x-python",
   "name": "python",
   "nbconvert_exporter": "python",
   "pygments_lexer": "ipython3",
   "version": "3.8.3"
  },
  "orig_nbformat": 4
 },
 "nbformat": 4,
 "nbformat_minor": 2
}
